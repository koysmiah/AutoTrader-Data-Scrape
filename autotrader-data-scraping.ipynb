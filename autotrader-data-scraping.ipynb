{
 "cells": [
  {
   "cell_type": "code",
   "execution_count": 137,
   "metadata": {},
   "outputs": [],
   "source": [
    "import os\n",
    "import re\n",
    "import time\n",
    "import datetime\n",
    "\n",
    "import pandas as pd\n",
    "from bs4 import BeautifulSoup\n",
    "from selenium import webdriver\n",
    "from selenium.webdriver.common.keys import Keys\n",
    "from selenium.webdriver.chrome.options import Options\n",
    "\n",
    "import psycopg2\n",
    "from psycopg2 import sql\n",
    "import csv\n",
    "from sqlalchemy import create_engine"
   ]
  },
  {
   "cell_type": "code",
   "execution_count": 138,
   "metadata": {},
   "outputs": [],
   "source": [
    "criteria = {\n",
    "    \"postcode\": \"LS1 2AD\",\n",
    "    \"radius\": \"20\",\n",
    "    \"year_from\": \"2010\",\n",
    "    \"year_to\": \"2014\",\n",
    "    \"price_from\": \"3000\",\n",
    "    \"price_to\": \"6500\",\n",
    "}"
   ]
  },
  {
   "cell_type": "code",
   "execution_count": 139,
   "metadata": {},
   "outputs": [],
   "source": [
    "cars = [\n",
    "    {\"make\": \"Toyota\", \"model\": \"Yaris\"},\n",
    "    {\"make\": \"Honda\", \"model\": \"Jazz\"},\n",
    "    {\"make\": \"Suzuki\", \"model\": \"Swift\"},\n",
    "    {\"make\": \"Mazda\", \"model\": \"Mazda3\"},\n",
    "]"
   ]
  },
  {
   "cell_type": "code",
   "execution_count": 140,
   "metadata": {},
   "outputs": [],
   "source": [
    "db_params = {\n",
    "    'dbname': 'Autotrader',\n",
    "    'user': 'postgres',\n",
    "    'password': 'Compaq2022',\n",
    "    'host': 'localhost',\n",
    "    'port': '5432',\n",
    "}"
   ]
  },
  {
   "cell_type": "code",
   "execution_count": 141,
   "metadata": {},
   "outputs": [],
   "source": [
    "def scrape_autotrader(cars, criteria):\n",
    "    chrome_options = Options()\n",
    "    chrome_options.add_argument(\"_tt_enable_cookie=1\")\n",
    "    driver = webdriver.Chrome()\n",
    "    data = []\n",
    "\n",
    "    for car in cars:\n",
    "        url = \"https://www.autotrader.co.uk/car-search?\" + \\\n",
    "            \"advertising-location=at_cars&\" + \\\n",
    "            \"include-delivery-option=on&\" + \\\n",
    "            f\"make={car['make']}&\" + \\\n",
    "            f\"model={car['model']}&\" + \\\n",
    "            f\"postcode={criteria['postcode']}&\" + \\\n",
    "            f\"radius={criteria['radius']}&\" + \\\n",
    "            \"sort=relevance&\" + \\\n",
    "            f\"year-from={criteria['year_from']}&\" + \\\n",
    "            f\"year-to={criteria['year_to']}&\" + \\\n",
    "            f\"price-from={criteria['price_from']}&\" + \\\n",
    "            f\"price-to={criteria['price_to']}\"\n",
    "\n",
    "        driver.get(url)\n",
    "\n",
    "        print(f\"Searching for {car['make']} {car['model']}...\")\n",
    "\n",
    "        time.sleep(5)\n",
    "\n",
    "        source = driver.page_source\n",
    "        content = BeautifulSoup(source, \"html.parser\")\n",
    "\n",
    "        try:\n",
    "            number_of_pages = content.find(\"p\", text=re.compile(r'Page \\d{1,2} of \\d{1,2}')).text[-1]\n",
    "        except:\n",
    "            print(\"No results found.\")\n",
    "            continue\n",
    "\n",
    "        print(f\"There are {number_of_pages} pages in total.\")\n",
    "\n",
    "        for i in range(int(number_of_pages)):\n",
    "            driver.get(url + f\"&page={str(i + 1)}\")\n",
    "\n",
    "            time.sleep(5)\n",
    "            page_source = driver.page_source\n",
    "            content = BeautifulSoup(page_source, \"html.parser\")\n",
    "\n",
    "            articles = content.findAll(\"section\", attrs={\"data-testid\": \"trader-seller-listing\"})\n",
    "\n",
    "            print(f\"Scraping page {str(i + 1)}...\")\n",
    "\n",
    "            for article in articles:\n",
    "                details = {\n",
    "                    \"name\": car['make'] + \" \" + car['model'],\n",
    "                    \"price\": re.search(\"[£]\\d+(\\,\\d{3})?\", article.text).group(0),\n",
    "                    \"year\": None,\n",
    "                    \"mileage\": None,\n",
    "                    \"transmission\": None,\n",
    "                    \"fuel\": None,\n",
    "                    \"engine\": None,\n",
    "                    \"owners\": None,\n",
    "                    \"location\": None,\n",
    "                    \"distance\": None,\n",
    "                    \"link\": article.find(\"a\", {\"href\": re.compile(r'/car-details/')}).get(\"href\")\n",
    "                }\n",
    "\n",
    "                try:\n",
    "                    seller_info = article.find(\"p\", attrs={\"data-testid\": \"search-listing-seller\"}).text\n",
    "                    location = seller_info.split(\"Dealer location\")[1]\n",
    "                    details[\"location\"] = location.split(\"(\")[0]\n",
    "                    details[\"distance\"] = location.split(\"(\")[1].replace(\" mile)\", \"\").replace(\" miles)\", \"\")\n",
    "                except:\n",
    "                    print(\"Seller information not found.\")\n",
    "\n",
    "                specs_list = article.find(\"ul\", attrs={\"data-testid\": \"search-listing-specs\"})\n",
    "                for spec in specs_list:\n",
    "                    if \"reg\" in spec.text:\n",
    "                        details[\"year\"] = spec.text\n",
    "\n",
    "                    if \"miles\" in spec.text:\n",
    "                        details[\"mileage\"] = spec.text\n",
    "\n",
    "                    if spec.text in [\"Manual\", \"Automatic\"]:\n",
    "                        details[\"transmission\"] = spec.text\n",
    "\n",
    "                    if \".\" in spec.text and \"L\" in spec.text:\n",
    "                        details[\"engine\"] = spec.text\n",
    "\n",
    "                    if spec.text in [\"Petrol\", \"Diesel\"]:\n",
    "                        details[\"fuel\"] = spec.text\n",
    "\n",
    "                    if \"owner\" in spec.text:\n",
    "                        details[\"owners\"] = spec.text[0]\n",
    "\n",
    "                data.append(details)\n",
    "\n",
    "            print(f\"Page {str(i + 1)} scraped. ({len(articles)} articles)\")\n",
    "            time.sleep(5)\n",
    "\n",
    "        print(\"\\n\\n\")\n",
    "\n",
    "    print(f\"{len(data)} cars total found.\")\n",
    "\n",
    "    # Convert the list of dictionaries to a pandas DataFrame\n",
    "    df = pd.DataFrame(data)\n",
    "\n",
    "    return df"
   ]
  },
  {
   "cell_type": "code",
   "execution_count": 142,
   "metadata": {},
   "outputs": [
    {
     "data": {
      "text/plain": [
       "49"
      ]
     },
     "execution_count": 142,
     "metadata": {},
     "output_type": "execute_result"
    }
   ],
   "source": [
    "# Upload to PostGreSQL\n",
    "engine = create_engine('postgresql://{user}:{password}@{host}:{port}/{dbname}'.format(**db_params))\n",
    "table_name = 'Autotrader_Data'\n",
    "data_df.to_sql(table_name, engine, if_exists='replace', index=False)"
   ]
  }
 ],
 "metadata": {
  "kernelspec": {
   "display_name": "Python 3",
   "language": "python",
   "name": "python3"
  },
  "language_info": {
   "codemirror_mode": {
    "name": "ipython",
    "version": 3
   },
   "file_extension": ".py",
   "mimetype": "text/x-python",
   "name": "python",
   "nbconvert_exporter": "python",
   "pygments_lexer": "ipython3",
   "version": "3.10.11"
  }
 },
 "nbformat": 4,
 "nbformat_minor": 2
}
